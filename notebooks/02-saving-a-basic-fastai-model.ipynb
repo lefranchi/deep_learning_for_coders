{
 "cells": [
  {
   "cell_type": "markdown",
   "source": [
    "# Saving a Cats v Dogs Model\n",
    "\n",
    "This is a minimal example showing how to train a fastai model on Kaggle, and save it so you can use it in your app."
   ],
   "metadata": {
    "collapsed": false
   },
   "id": "80932c13856df73"
  },
  {
   "cell_type": "code",
   "outputs": [],
   "source": [
    "# Make sure we've got the latest version of fastai:\n",
    "!pip install -Uqq fastai"
   ],
   "metadata": {
    "collapsed": false,
    "ExecuteTime": {
     "end_time": "2024-01-10T17:56:39.180254471Z",
     "start_time": "2024-01-10T17:56:38.066949149Z"
    }
   },
   "id": "78e8d7fad3e2f295",
   "execution_count": 1
  },
  {
   "cell_type": "markdown",
   "source": [
    "First, import all the stuff we need from fastai:"
   ],
   "metadata": {
    "collapsed": false
   },
   "id": "a44348ffe1ecb31"
  },
  {
   "cell_type": "code",
   "outputs": [],
   "source": [
    "from fastai.vision.all import *"
   ],
   "metadata": {
    "collapsed": false,
    "ExecuteTime": {
     "end_time": "2024-01-10T17:56:43.100926288Z",
     "start_time": "2024-01-10T17:56:41.912913811Z"
    }
   },
   "id": "bfdd207e0a34b706",
   "execution_count": 2
  },
  {
   "cell_type": "markdown",
   "source": [
    "Download and decompress our dataset, which is pictures of dogs and cats:"
   ],
   "metadata": {
    "collapsed": false
   },
   "id": "234d4fb7a5c73a51"
  },
  {
   "cell_type": "code",
   "outputs": [
    {
     "data": {
      "text/plain": "<IPython.core.display.HTML object>",
      "text/html": "\n<style>\n    /* Turns off some styling */\n    progress {\n        /* gets rid of default border in Firefox and Opera. */\n        border: none;\n        /* Needs to be in here for Safari polyfill so background images work as expected. */\n        background-size: auto;\n    }\n    progress:not([value]), progress:not([value])::-webkit-progress-bar {\n        background: repeating-linear-gradient(45deg, #7e7e7e, #7e7e7e 10px, #5c5c5c 10px, #5c5c5c 20px);\n    }\n    .progress-bar-interrupted, .progress-bar-interrupted::-webkit-progress-bar {\n        background: #F44336;\n    }\n</style>\n"
     },
     "metadata": {},
     "output_type": "display_data"
    },
    {
     "data": {
      "text/plain": "<IPython.core.display.HTML object>",
      "text/html": "\n    <div>\n      <progress value='0' class='' max='811706944' style='width:300px; height:20px; vertical-align: middle;'></progress>\n      \n    </div>\n    "
     },
     "metadata": {},
     "output_type": "display_data"
    }
   ],
   "source": [
    "path = untar_data(URLs.PETS)/'images'"
   ],
   "metadata": {
    "collapsed": false,
    "ExecuteTime": {
     "end_time": "2024-01-10T17:57:34.615544642Z",
     "start_time": "2024-01-10T17:56:45.882331622Z"
    }
   },
   "id": "b0111cf2be449815",
   "execution_count": 3
  },
  {
   "cell_type": "markdown",
   "source": [
    "We need a way to label our images as dogs or cats. In this dataset, pictures of cats are given a filename that starts with a capital letter:"
   ],
   "metadata": {
    "collapsed": false
   },
   "id": "44d221b3e90a4306"
  },
  {
   "cell_type": "code",
   "outputs": [],
   "source": [
    "def is_cat(x): return x[0].isupper()"
   ],
   "metadata": {
    "collapsed": false,
    "ExecuteTime": {
     "end_time": "2024-01-10T17:57:34.622986088Z",
     "start_time": "2024-01-10T17:57:34.617372941Z"
    }
   },
   "id": "e17d65879b89d0fd",
   "execution_count": 4
  },
  {
   "cell_type": "markdown",
   "source": [
    "Now we can create our DataLoaders:"
   ],
   "metadata": {
    "collapsed": false
   },
   "id": "cd4cbcd8a7351358"
  },
  {
   "cell_type": "code",
   "outputs": [],
   "source": [
    "dls = ImageDataLoaders.from_name_func('.',\n",
    "                                      get_image_files(path), valid_pct=0.2, seed=42,\n",
    "                                      label_func=is_cat,\n",
    "                                      item_tfms=Resize(192))"
   ],
   "metadata": {
    "collapsed": false,
    "ExecuteTime": {
     "end_time": "2024-01-10T17:58:02.261461859Z",
     "start_time": "2024-01-10T17:58:02.041181586Z"
    }
   },
   "id": "45f1992a369e0578",
   "execution_count": 5
  },
  {
   "cell_type": "markdown",
   "source": [
    "... and train our model, a resnet18 (to keep it small and fast):"
   ],
   "metadata": {
    "collapsed": false
   },
   "id": "6bef687ae32aa5da"
  },
  {
   "cell_type": "code",
   "outputs": [
    {
     "data": {
      "text/plain": "<IPython.core.display.HTML object>",
      "text/html": "\n<style>\n    /* Turns off some styling */\n    progress {\n        /* gets rid of default border in Firefox and Opera. */\n        border: none;\n        /* Needs to be in here for Safari polyfill so background images work as expected. */\n        background-size: auto;\n    }\n    progress:not([value]), progress:not([value])::-webkit-progress-bar {\n        background: repeating-linear-gradient(45deg, #7e7e7e, #7e7e7e 10px, #5c5c5c 10px, #5c5c5c 20px);\n    }\n    .progress-bar-interrupted, .progress-bar-interrupted::-webkit-progress-bar {\n        background: #F44336;\n    }\n</style>\n"
     },
     "metadata": {},
     "output_type": "display_data"
    },
    {
     "data": {
      "text/plain": "<IPython.core.display.HTML object>",
      "text/html": "\n    <div>\n      <progress value='0' class='' max='1' style='width:300px; height:20px; vertical-align: middle;'></progress>\n      \n    </div>\n    \n"
     },
     "metadata": {},
     "output_type": "display_data"
    },
    {
     "data": {
      "text/plain": "<IPython.core.display.HTML object>",
      "text/html": "\n<style>\n    /* Turns off some styling */\n    progress {\n        /* gets rid of default border in Firefox and Opera. */\n        border: none;\n        /* Needs to be in here for Safari polyfill so background images work as expected. */\n        background-size: auto;\n    }\n    progress:not([value]), progress:not([value])::-webkit-progress-bar {\n        background: repeating-linear-gradient(45deg, #7e7e7e, #7e7e7e 10px, #5c5c5c 10px, #5c5c5c 20px);\n    }\n    .progress-bar-interrupted, .progress-bar-interrupted::-webkit-progress-bar {\n        background: #F44336;\n    }\n</style>\n"
     },
     "metadata": {},
     "output_type": "display_data"
    },
    {
     "data": {
      "text/plain": "<IPython.core.display.HTML object>",
      "text/html": "\n    <div>\n      <progress value='0' class='' max='3' style='width:300px; height:20px; vertical-align: middle;'></progress>\n      \n    </div>\n    \n"
     },
     "metadata": {},
     "output_type": "display_data"
    }
   ],
   "source": [
    "learn = vision_learner(dls, resnet18, metrics=error_rate)\n",
    "learn.fine_tune(3)"
   ],
   "metadata": {
    "collapsed": false,
    "ExecuteTime": {
     "end_time": "2024-01-10T17:59:17.082685206Z",
     "start_time": "2024-01-10T17:58:47.355510668Z"
    }
   },
   "id": "4a6a47ea5b7df507",
   "execution_count": 7
  },
  {
   "cell_type": "markdown",
   "source": [
    "Now we can export our trained Learner. This contains all the information needed to run the model:"
   ],
   "metadata": {
    "collapsed": false
   },
   "id": "fb973868836ee1b1"
  },
  {
   "cell_type": "code",
   "outputs": [],
   "source": [
    "learn.export('model.pkl')"
   ],
   "metadata": {
    "collapsed": false,
    "ExecuteTime": {
     "end_time": "2024-01-10T17:59:29.048765340Z",
     "start_time": "2024-01-10T17:59:29.039612063Z"
    }
   },
   "id": "a3fa2501c3f7a656",
   "execution_count": 8
  },
  {
   "cell_type": "markdown",
   "source": [
    "Finally, open the Kaggle sidebar on the right if it's not already, and find the section marked \"Output\". Open the /kaggle/working folder, and you'll see model.pkl. Click on it, then click on the menu on the right that appears, and choose \"Download\". After a few seconds, your model will be downloaded to your computer, where you can then create your app that uses the model."
   ],
   "metadata": {
    "collapsed": false
   },
   "id": "87dbc8b95084aaab"
  }
 ],
 "metadata": {
  "kernelspec": {
   "display_name": "Python 3",
   "language": "python",
   "name": "python3"
  },
  "language_info": {
   "codemirror_mode": {
    "name": "ipython",
    "version": 2
   },
   "file_extension": ".py",
   "mimetype": "text/x-python",
   "name": "python",
   "nbconvert_exporter": "python",
   "pygments_lexer": "ipython2",
   "version": "2.7.6"
  }
 },
 "nbformat": 4,
 "nbformat_minor": 5
}
